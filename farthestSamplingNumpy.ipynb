{
 "nbformat": 4,
 "nbformat_minor": 2,
 "metadata": {
  "language_info": {
   "name": "python",
   "codemirror_mode": {
    "name": "ipython",
    "version": 3
   },
   "version": "3.7.5"
  },
  "orig_nbformat": 2,
  "file_extension": ".py",
  "mimetype": "text/x-python",
  "name": "python",
  "npconvert_exporter": "python",
  "pygments_lexer": "ipython3",
  "version": 3
 },
 "cells": [
  {
   "cell_type": "code",
   "execution_count": 1,
   "metadata": {},
   "outputs": [],
   "source": [
    "import numpy as np\n",
    "import os\n",
    "import plotly.graph_objects as go\n",
    "import h5py\n",
    "import time"
   ]
  },
  {
   "cell_type": "code",
   "execution_count": 2,
   "metadata": {},
   "outputs": [],
   "source": [
    "X_train = np.load('..\\\\ModelNet40\\\\X_train.npy')\n",
    "X_test = np.load('..\\\\ModelNet40\\\\X_test.npy')\n",
    "Y_train = np.load('..\\\\ModelNet40\\\\Y_train.npy')\n",
    "Y_test = np.load('..\\\\ModelNet40\\\\Y_test.npy')"
   ]
  },
  {
   "cell_type": "code",
   "execution_count": 4,
   "metadata": {},
   "outputs": [],
   "source": [
    "# 本段内容为给单个2048点云进行FPS采样\n",
    "def farthest_point_sampling(pointcloud,npoint = 512):\n",
    "    x = np.expand_dims(pointcloud, axis=0)    \n",
    "    x = np.subtract(x, np.transpose(x, [1,0,2]))\n",
    "    x = np.square(x)\n",
    "    x = np.sum(x, axis=2) #按照坐标的一轴进行相加\n",
    "\n",
    "    result = np.zeros((npoint,), dtype=np.int)\n",
    "\n",
    "    farthest = np.random.randint(0,2048)\n",
    "\n",
    "    for i in range(npoint):\n",
    "        result[i] = farthest\n",
    "        x[farthest,:] = -1\n",
    "        dists = []\n",
    "        farthest = np.argmax(x[:,result[0:i+1]].min(1))\n",
    "    return result"
   ]
  },
  {
   "cell_type": "code",
   "execution_count": 5,
   "metadata": {},
   "outputs": [
    {
     "name": "stdout",
     "output_type": "stream",
     "text": "trainSampling512 totally cost 24032.954697847366\ntestSampling512 totally cost 6040.58202457428\n"
    }
   ],
   "source": [
    "time_start=time.time()\n",
    "trainSampling512 = np.array(list(map(farthest_point_sampling,X_train)))\n",
    "np.save('..\\\\ModelNet40Sampling\\\\train512idx',trainSampling512) \n",
    "time_end=time.time()\n",
    "print('trainSampling512 totally cost',time_end-time_start)\n",
    "\n",
    "time_start=time.time()\n",
    "testSampling512 = np.array(list(map(farthest_point_sampling,X_test)))\n",
    "np.save('..\\\\ModelNet40Sampling\\\\test512idx',testSampling512) \n",
    "time_end=time.time()\n",
    "print('testSampling512 totally cost',time_end-time_start)"
   ]
  },
  {
   "cell_type": "code",
   "execution_count": 6,
   "metadata": {},
   "outputs": [],
   "source": [
    "def get_sampling_points(idx,pointcloud):\n",
    "    return pointcloud[idx]"
   ]
  },
  {
   "cell_type": "code",
   "execution_count": 8,
   "metadata": {},
   "outputs": [],
   "source": [
    "trainSampling512xyz = []\n",
    "for s in range(9840):\n",
    "    c = get_sampling_points(trainSampling512[s],X_train[s])\n",
    "    trainSampling512xyz.append(c)\n",
    "trainSampling512xyz = np.array(trainSampling512xyz)\n",
    "np.save('..\\\\ModelNet40Sampling\\\\train512point',trainSampling512xyz) \n",
    "\n",
    "testSampling512xyz = []\n",
    "for s in range(2468):\n",
    "    c = get_sampling_points(testSampling512[s],X_test[s])\n",
    "    testSampling512xyz.append(c)\n",
    "testSampling512xyz = np.array(testSampling512xyz)\n",
    "np.save('..\\\\ModelNet40Sampling\\\\test512point',testSampling512xyz) "
   ]
  },
  {
   "cell_type": "code",
   "execution_count": 9,
   "metadata": {},
   "outputs": [],
   "source": [
    "# 抓取128采样相对于512点的idx信息\n",
    "def farthest_point_sampling_128(pointcloud,npoint = 128):\n",
    "    x = np.expand_dims(pointcloud, axis=0)    \n",
    "    x = np.subtract(x, np.transpose(x, [1,0,2]))\n",
    "    x = np.square(x)\n",
    "    x = np.sum(x, axis=2) #按照坐标的一轴进行相加\n",
    "\n",
    "    result = np.zeros((npoint,), dtype=np.int)\n",
    "\n",
    "    farthest = np.random.randint(0,512)\n",
    "\n",
    "    for i in range(npoint):\n",
    "        result[i] = farthest\n",
    "        x[farthest,:] = -1\n",
    "        dists = []\n",
    "        farthest = np.argmax(x[:,result[0:i+1]].min(1))\n",
    "    return result\n",
    "\n",
    "def get_sampling128_real_idx(idx,pointidx512):\n",
    "    return pointidx512[idx]"
   ]
  },
  {
   "cell_type": "code",
   "execution_count": 25,
   "metadata": {},
   "outputs": [
    {
     "name": "stdout",
     "output_type": "stream",
     "text": "trainSampling128 totally cost 192.6241385936737\n"
    }
   ],
   "source": [
    "time_start=time.time()\n",
    "trainSampling128 = np.array(list(map(farthest_point_sampling_128,trainSampling512xyz)))\n",
    "trainpoint128idx = []\n",
    "for s in range(9840):\n",
    "    c = get_sampling128_real_idx(trainSampling128[s],trainSampling512[s])\n",
    "    trainpoint128idx.append(c)\n",
    "trainpoint128idx = np.array(trainpoint128idx)\n",
    "np.save('..\\\\ModelNet40Sampling\\\\train128idx',trainpoint128idx)\n",
    "time_end=time.time()\n",
    "print('trainSampling128 totally cost',time_end-time_start)\n"
   ]
  },
  {
   "cell_type": "code",
   "execution_count": 11,
   "metadata": {},
   "outputs": [
    {
     "name": "stdout",
     "output_type": "stream",
     "text": "trainSampling128 totally cost 47.5208694934845\n"
    }
   ],
   "source": [
    "time_start=time.time()\n",
    "testSampling128 = np.array(list(map(farthest_point_sampling_128,testSampling512xyz)))\n",
    "testpoint128idx = []\n",
    "for s in range(2468):\n",
    "    c = get_sampling128_real_idx(testSampling128[s],testSampling512[s])\n",
    "    testpoint128idx.append(c)\n",
    "testpoint128idx = np.array(testpoint128idx)\n",
    "np.save('..\\\\ModelNet40Sampling\\\\test128idx',testpoint128idx) \n",
    "time_end=time.time()\n",
    "print('trainSampling128 totally cost',time_end-time_start)"
   ]
  },
  {
   "cell_type": "code",
   "execution_count": 26,
   "metadata": {},
   "outputs": [],
   "source": [
    "trainSampling128xyz = []\n",
    "for s in range(9840):\n",
    "    c = get_sampling_points(trainpoint128idx[s],X_train[s])\n",
    "    trainSampling128xyz.append(c)\n",
    "trainSampling128xyz = np.array(trainSampling128xyz)\n",
    "np.save('..\\\\ModelNet40Sampling\\\\train128point',trainSampling128xyz) "
   ]
  },
  {
   "cell_type": "code",
   "execution_count": 28,
   "metadata": {},
   "outputs": [],
   "source": [
    "testSampling128xyz = []\n",
    "for s in range(2468):\n",
    "    c = get_sampling_points(testpoint128idx[s],X_test[s])\n",
    "    testSampling128xyz.append(c)\n",
    "testSampling128xyz = np.array(testSampling128xyz)\n",
    "np.save('..\\\\ModelNet40Sampling\\\\test128point',testSampling128xyz) "
   ]
  },
  {
   "cell_type": "code",
   "execution_count": 29,
   "metadata": {},
   "outputs": [],
   "source": [
    "# 抓取32采样相对于128点的idx信息\n",
    "def farthest_point_sampling_32(pointcloud,npoint = 32):\n",
    "    x = np.expand_dims(pointcloud, axis=0)    \n",
    "    x = np.subtract(x, np.transpose(x, [1,0,2]))\n",
    "    x = np.square(x)\n",
    "    x = np.sum(x, axis=2) #按照坐标的一轴进行相加\n",
    "\n",
    "    result = np.zeros((npoint,), dtype=np.int)\n",
    "\n",
    "    farthest = np.random.randint(0,128)\n",
    "\n",
    "    for i in range(npoint):\n",
    "        result[i] = farthest\n",
    "        x[farthest,:] = -1\n",
    "        dists = []\n",
    "        farthest = np.argmax(x[:,result[0:i+1]].min(1))\n",
    "    return result\n",
    "\n",
    "def get_sampling32_real_idx(idx,pointidx128):\n",
    "    return pointidx128[idx]"
   ]
  },
  {
   "cell_type": "code",
   "execution_count": 30,
   "metadata": {},
   "outputs": [
    {
     "name": "stdout",
     "output_type": "stream",
     "text": "trainSampling128 totally cost 6.8795952796936035\n"
    }
   ],
   "source": [
    "time_start=time.time()\n",
    "trainSampling32 = np.array(list(map(farthest_point_sampling_32,trainSampling128xyz)))\n",
    "trainpoint32idx = []\n",
    "for s in range(9840):\n",
    "    c = get_sampling32_real_idx(trainSampling32[s],trainpoint128idx[s])\n",
    "    trainpoint32idx.append(c)\n",
    "trainpoint32idx = np.array(trainpoint32idx)\n",
    "np.save('..\\\\ModelNet40Sampling\\\\train32idx',trainpoint32idx)\n",
    "\n",
    "trainSampling32xyz = []\n",
    "for s in range(9840):\n",
    "    c = get_sampling_points(trainpoint32idx[s],X_train[s])\n",
    "    trainSampling32xyz.append(c)\n",
    "trainSampling32xyz = np.array(trainSampling32xyz)\n",
    "np.save('..\\\\ModelNet40Sampling\\\\train32point',trainSampling32xyz) \n",
    "time_end=time.time()\n",
    "print('trainSampling128 totally cost',time_end-time_start)"
   ]
  },
  {
   "cell_type": "code",
   "execution_count": 31,
   "metadata": {},
   "outputs": [
    {
     "name": "stdout",
     "output_type": "stream",
     "text": "trainSampling128 totally cost 1.7413413524627686\n"
    }
   ],
   "source": [
    "time_start=time.time()\n",
    "testSampling32 = np.array(list(map(farthest_point_sampling_32,testSampling128xyz)))\n",
    "testpoint32idx = []\n",
    "for s in range(2468):\n",
    "    c = get_sampling32_real_idx(testSampling32[s],testpoint128idx[s])\n",
    "    testpoint32idx.append(c)\n",
    "testpoint32idx = np.array(testpoint32idx)\n",
    "np.save('..\\\\ModelNet40Sampling\\\\test32idx',testpoint32idx) \n",
    "\n",
    "testSampling32xyz = []\n",
    "for s in range(2468):\n",
    "    c = get_sampling_points(testpoint32idx[s],X_test[s])\n",
    "    testSampling32xyz.append(c)\n",
    "testSampling32xyz = np.array(testSampling32xyz)\n",
    "np.save('..\\\\ModelNet40Sampling\\\\test32point',testSampling32xyz) \n",
    "time_end=time.time()\n",
    "print('trainSampling128 totally cost',time_end-time_start)"
   ]
  },
  {
   "cell_type": "code",
   "execution_count": 32,
   "metadata": {},
   "outputs": [],
   "source": [
    "# 抓取8采样相对于32点的idx信息\n",
    "def farthest_point_sampling_8(pointcloud,npoint = 8):\n",
    "    x = np.expand_dims(pointcloud, axis=0)    \n",
    "    x = np.subtract(x, np.transpose(x, [1,0,2]))\n",
    "    x = np.square(x)\n",
    "    x = np.sum(x, axis=2) #按照坐标的一轴进行相加\n",
    "\n",
    "    result = np.zeros((npoint,), dtype=np.int)\n",
    "\n",
    "    farthest = np.random.randint(0,32)\n",
    "\n",
    "    for i in range(npoint):\n",
    "        result[i] = farthest\n",
    "        x[farthest,:] = -1\n",
    "        dists = []\n",
    "        farthest = np.argmax(x[:,result[0:i+1]].min(1))\n",
    "    return result\n",
    "\n",
    "def get_sampling8_real_idx(idx,pointidx32):\n",
    "    return pointidx32[idx]"
   ]
  },
  {
   "cell_type": "code",
   "execution_count": 33,
   "metadata": {},
   "outputs": [
    {
     "name": "stdout",
     "output_type": "stream",
     "text": "trainSampling128 totally cost 1.0621585845947266\n"
    }
   ],
   "source": [
    "time_start=time.time()\n",
    "trainSampling8 = np.array(list(map(farthest_point_sampling_8,trainSampling32xyz)))\n",
    "trainpoint8idx = []\n",
    "for s in range(9840):\n",
    "    c = get_sampling8_real_idx(trainSampling8[s],trainpoint32idx[s])\n",
    "    trainpoint8idx.append(c)\n",
    "trainpoint8idx = np.array(trainpoint8idx)\n",
    "np.save('..\\\\ModelNet40Sampling\\\\train8idx',trainpoint8idx)\n",
    "\n",
    "trainSampling8xyz = []\n",
    "for s in range(9840):\n",
    "    c = get_sampling_points(trainpoint8idx[s],X_train[s])\n",
    "    trainSampling8xyz.append(c)\n",
    "trainSampling8xyz = np.array(trainSampling8xyz)\n",
    "np.save('..\\\\ModelNet40Sampling\\\\train8point',trainSampling8xyz) \n",
    "time_end=time.time()\n",
    "print('trainSampling128 totally cost',time_end-time_start)"
   ]
  },
  {
   "cell_type": "code",
   "execution_count": 34,
   "metadata": {},
   "outputs": [
    {
     "name": "stdout",
     "output_type": "stream",
     "text": "trainSampling128 totally cost 0.2712743282318115\n"
    }
   ],
   "source": [
    "time_start=time.time()\n",
    "testSampling8 = np.array(list(map(farthest_point_sampling_8,testSampling32xyz)))\n",
    "testpoint8idx = []\n",
    "for s in range(2468):\n",
    "    c = get_sampling8_real_idx(testSampling8[s],testpoint32idx[s])\n",
    "    testpoint8idx.append(c)\n",
    "testpoint8idx = np.array(testpoint8idx)\n",
    "np.save('..\\\\ModelNet40Sampling\\\\test8idx',testpoint8idx) \n",
    "\n",
    "testSampling8xyz = []\n",
    "for s in range(2468):\n",
    "    c = get_sampling_points(testpoint8idx[s],X_test[s])\n",
    "    testSampling8xyz.append(c)\n",
    "testSampling8xyz = np.array(testSampling8xyz)\n",
    "np.save('..\\\\ModelNet40Sampling\\\\test8point',testSampling8xyz) \n",
    "time_end=time.time()\n",
    "print('trainSampling128 totally cost',time_end-time_start)"
   ]
  },
  {
   "cell_type": "code",
   "execution_count": null,
   "metadata": {},
   "outputs": [],
   "source": []
  }
 ]
}